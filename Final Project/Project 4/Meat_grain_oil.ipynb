{
 "cells": [
  {
   "cell_type": "code",
   "execution_count": 48,
   "metadata": {
    "collapsed": true
   },
   "outputs": [],
   "source": [
    "import numpy as np\n",
    "import pandas as pd\n",
    "from matplotlib import pyplot as plt\n",
    "%matplotlib inline\n",
    "import seaborn as sns\n",
    "sns.set_style('darkgrid')\n",
    "import sklearn.linear_model\n",
    "import datetime"
   ]
  },
  {
   "cell_type": "code",
   "execution_count": 49,
   "metadata": {
    "collapsed": true
   },
   "outputs": [],
   "source": [
    "grains = pd.read_csv('Downloads/Final_Project/Meat/Grains_Clean.csv')"
   ]
  },
  {
   "cell_type": "code",
   "execution_count": 50,
   "metadata": {
    "collapsed": true
   },
   "outputs": [],
   "source": [
    "meat_oil = pd.read_csv('Downloads/Final_Project/Meat/Meat_Oil_Clean.csv')"
   ]
  },
  {
   "cell_type": "code",
   "execution_count": 51,
   "metadata": {
    "collapsed": false
   },
   "outputs": [],
   "source": [
    "grains = grains.set_index(pd.date_range('1867-1-1', periods=150, freq='A'))"
   ]
  },
  {
   "cell_type": "code",
   "execution_count": 52,
   "metadata": {
    "collapsed": false
   },
   "outputs": [
    {
     "data": {
      "text/html": [
       "<div>\n",
       "<table border=\"1\" class=\"dataframe\">\n",
       "  <thead>\n",
       "    <tr style=\"text-align: right;\">\n",
       "      <th></th>\n",
       "      <th>Corn_Price</th>\n",
       "      <th>Barley_Price</th>\n",
       "      <th>Oats_Price</th>\n",
       "      <th>Sorghum_Price</th>\n",
       "    </tr>\n",
       "  </thead>\n",
       "  <tbody>\n",
       "    <tr>\n",
       "      <th>1867-12-31 00:00:00</th>\n",
       "      <td>0.66</td>\n",
       "      <td>0.95</td>\n",
       "      <td>0.47</td>\n",
       "      <td>NaN</td>\n",
       "    </tr>\n",
       "    <tr>\n",
       "      <th>1868-12-31 00:00:00</th>\n",
       "      <td>0.78</td>\n",
       "      <td>1.22</td>\n",
       "      <td>0.59</td>\n",
       "      <td>NaN</td>\n",
       "    </tr>\n",
       "    <tr>\n",
       "      <th>1869-12-31 00:00:00</th>\n",
       "      <td>0.62</td>\n",
       "      <td>1.49</td>\n",
       "      <td>0.54</td>\n",
       "      <td>NaN</td>\n",
       "    </tr>\n",
       "    <tr>\n",
       "      <th>1870-12-31 00:00:00</th>\n",
       "      <td>0.73</td>\n",
       "      <td>0.87</td>\n",
       "      <td>0.46</td>\n",
       "      <td>NaN</td>\n",
       "    </tr>\n",
       "    <tr>\n",
       "      <th>1871-12-31 00:00:00</th>\n",
       "      <td>0.52</td>\n",
       "      <td>0.85</td>\n",
       "      <td>0.43</td>\n",
       "      <td>NaN</td>\n",
       "    </tr>\n",
       "  </tbody>\n",
       "</table>\n",
       "</div>"
      ],
      "text/plain": [
       "                     Corn_Price  Barley_Price  Oats_Price  Sorghum_Price\n",
       "1867-12-31 00:00:00        0.66          0.95        0.47            NaN\n",
       "1868-12-31 00:00:00        0.78          1.22        0.59            NaN\n",
       "1869-12-31 00:00:00        0.62          1.49        0.54            NaN\n",
       "1870-12-31 00:00:00        0.73          0.87        0.46            NaN\n",
       "1871-12-31 00:00:00        0.52          0.85        0.43            NaN"
      ]
     },
     "execution_count": 52,
     "metadata": {},
     "output_type": "execute_result"
    }
   ],
   "source": [
    "grains.head()"
   ]
  },
  {
   "cell_type": "code",
   "execution_count": 53,
   "metadata": {
    "collapsed": false
   },
   "outputs": [
    {
     "data": {
      "text/plain": [
       "<matplotlib.axes._subplots.AxesSubplot at 0x11c2b8710>"
      ]
     },
     "execution_count": 53,
     "metadata": {},
     "output_type": "execute_result"
    },
    {
     "data": {
      "image/png": "[encoded data removed]",
      "text/plain": [
       "<matplotlib.figure.Figure at 0x11c2c7ed0>"
      ]
     },
     "metadata": {},
     "output_type": "display_data"
    }
   ],
   "source": [
    "grains.plot.area()"
   ]
  },
  {
   "cell_type": "code",
   "execution_count": 54,
   "metadata": {
    "collapsed": false
   },
   "outputs": [
    {
     "data": {
      "text/html": [
       "<div>\n",
       "<table border=\"1\" class=\"dataframe\">\n",
       "  <thead>\n",
       "    <tr style=\"text-align: right;\">\n",
       "      <th></th>\n",
       "      <th>Corn_Price</th>\n",
       "      <th>Barley_Price</th>\n",
       "      <th>Oats_Price</th>\n",
       "      <th>Sorghum_Price</th>\n",
       "    </tr>\n",
       "  </thead>\n",
       "  <tbody>\n",
       "    <tr>\n",
       "      <th>Corn_Price</th>\n",
       "      <td>1.000000</td>\n",
       "      <td>0.946257</td>\n",
       "      <td>0.955720</td>\n",
       "      <td>0.991569</td>\n",
       "    </tr>\n",
       "    <tr>\n",
       "      <th>Barley_Price</th>\n",
       "      <td>0.946257</td>\n",
       "      <td>1.000000</td>\n",
       "      <td>0.971819</td>\n",
       "      <td>0.939369</td>\n",
       "    </tr>\n",
       "    <tr>\n",
       "      <th>Oats_Price</th>\n",
       "      <td>0.955720</td>\n",
       "      <td>0.971819</td>\n",
       "      <td>1.000000</td>\n",
       "      <td>0.942509</td>\n",
       "    </tr>\n",
       "    <tr>\n",
       "      <th>Sorghum_Price</th>\n",
       "      <td>0.991569</td>\n",
       "      <td>0.939369</td>\n",
       "      <td>0.942509</td>\n",
       "      <td>1.000000</td>\n",
       "    </tr>\n",
       "  </tbody>\n",
       "</table>\n",
       "</div>"
      ],
      "text/plain": [
       "               Corn_Price  Barley_Price  Oats_Price  Sorghum_Price\n",
       "Corn_Price       1.000000      0.946257    0.955720       0.991569\n",
       "Barley_Price     0.946257      1.000000    0.971819       0.939369\n",
       "Oats_Price       0.955720      0.971819    1.000000       0.942509\n",
       "Sorghum_Price    0.991569      0.939369    0.942509       1.000000"
      ]
     },
     "execution_count": 54,
     "metadata": {},
     "output_type": "execute_result"
    }
   ],
   "source": [
    "grains.corr()"
   ]
  },
  {
   "cell_type": "code",
   "execution_count": 55,
   "metadata": {
    "collapsed": false
   },
   "outputs": [],
   "source": [
    "meat_oil = meat_oil.set_index(pd.date_range('1986-1-1', periods=360, freq='M'))"
   ]
  },
  {
   "cell_type": "code",
   "execution_count": 56,
   "metadata": {
    "collapsed": false
   },
   "outputs": [
    {
     "data": {
      "text/html": [
       "<div>\n",
       "<table border=\"1\" class=\"dataframe\">\n",
       "  <thead>\n",
       "    <tr style=\"text-align: right;\">\n",
       "      <th></th>\n",
       "      <th>Beef_Farm_Price</th>\n",
       "      <th>Beef_Wholesale_Price</th>\n",
       "      <th>Beef_Retail_Price</th>\n",
       "      <th>Pork_Farm_Price</th>\n",
       "      <th>Pork_Wholesale_Price</th>\n",
       "      <th>Pork_Retail_Price</th>\n",
       "      <th>Chicken_Retail_Price</th>\n",
       "      <th>Oil_Price</th>\n",
       "    </tr>\n",
       "  </thead>\n",
       "  <tbody>\n",
       "    <tr>\n",
       "      <th>1986-01-31</th>\n",
       "      <td>129.0</td>\n",
       "      <td>152.6</td>\n",
       "      <td>232.9</td>\n",
       "      <td>85.55</td>\n",
       "      <td>104.15</td>\n",
       "      <td>178.80</td>\n",
       "      <td>119.59</td>\n",
       "      <td>22.93</td>\n",
       "    </tr>\n",
       "    <tr>\n",
       "      <th>1986-02-28</th>\n",
       "      <td>121.6</td>\n",
       "      <td>143.1</td>\n",
       "      <td>228.5</td>\n",
       "      <td>81.62</td>\n",
       "      <td>100.58</td>\n",
       "      <td>178.06</td>\n",
       "      <td>117.20</td>\n",
       "      <td>15.46</td>\n",
       "    </tr>\n",
       "    <tr>\n",
       "      <th>1986-03-31</th>\n",
       "      <td>120.4</td>\n",
       "      <td>141.0</td>\n",
       "      <td>226.4</td>\n",
       "      <td>76.90</td>\n",
       "      <td>97.11</td>\n",
       "      <td>175.42</td>\n",
       "      <td>115.46</td>\n",
       "      <td>12.61</td>\n",
       "    </tr>\n",
       "    <tr>\n",
       "      <th>1986-04-30</th>\n",
       "      <td>116.8</td>\n",
       "      <td>137.8</td>\n",
       "      <td>223.1</td>\n",
       "      <td>76.01</td>\n",
       "      <td>96.38</td>\n",
       "      <td>171.61</td>\n",
       "      <td>116.44</td>\n",
       "      <td>12.84</td>\n",
       "    </tr>\n",
       "    <tr>\n",
       "      <th>1986-05-31</th>\n",
       "      <td>121.0</td>\n",
       "      <td>142.8</td>\n",
       "      <td>222.9</td>\n",
       "      <td>89.83</td>\n",
       "      <td>108.04</td>\n",
       "      <td>171.71</td>\n",
       "      <td>116.49</td>\n",
       "      <td>15.38</td>\n",
       "    </tr>\n",
       "  </tbody>\n",
       "</table>\n",
       "</div>"
      ],
      "text/plain": [
       "            Beef_Farm_Price  Beef_Wholesale_Price  Beef_Retail_Price  \\\n",
       "1986-01-31            129.0                 152.6              232.9   \n",
       "1986-02-28            121.6                 143.1              228.5   \n",
       "1986-03-31            120.4                 141.0              226.4   \n",
       "1986-04-30            116.8                 137.8              223.1   \n",
       "1986-05-31            121.0                 142.8              222.9   \n",
       "\n",
       "            Pork_Farm_Price  Pork_Wholesale_Price  Pork_Retail_Price  \\\n",
       "1986-01-31            85.55                104.15             178.80   \n",
       "1986-02-28            81.62                100.58             178.06   \n",
       "1986-03-31            76.90                 97.11             175.42   \n",
       "1986-04-30            76.01                 96.38             171.61   \n",
       "1986-05-31            89.83                108.04             171.71   \n",
       "\n",
       "            Chicken_Retail_Price  Oil_Price  \n",
       "1986-01-31                119.59      22.93  \n",
       "1986-02-28                117.20      15.46  \n",
       "1986-03-31                115.46      12.61  \n",
       "1986-04-30                116.44      12.84  \n",
       "1986-05-31                116.49      15.38  "
      ]
     },
     "execution_count": 56,
     "metadata": {},
     "output_type": "execute_result"
    }
   ],
   "source": [
    "meat_oil.head()"
   ]
  },
  {
   "cell_type": "code",
   "execution_count": 57,
   "metadata": {
    "collapsed": true
   },
   "outputs": [],
   "source": [
    "def cents_to_dollars(x):\n",
    "    return x/100"
   ]
  },
  {
   "cell_type": "code",
   "execution_count": 58,
   "metadata": {
    "collapsed": true
   },
   "outputs": [],
   "source": [
    "cent_prices = ['Beef_Farm_Price','Beef_Wholesale_Price', 'Beef_Retail_Price',\n",
    "              'Pork_Farm_Price', 'Pork_Wholesale_Price', 'Pork_Retail_Price',\n",
    "              'Chicken_Retail_Price']\n",
    "beef_prices = ['Beef_Farm_Price','Beef_Wholesale_Price', 'Beef_Retail_Price']\n",
    "pork_prices = ['Pork_Farm_Price', 'Pork_Wholesale_Price', 'Pork_Retail_Price']\n",
    "retail_meat = ['Beef_Retail_Price', 'Pork_Retail_Price', 'Chicken_Retail_Price']"
   ]
  },
  {
   "cell_type": "code",
   "execution_count": 59,
   "metadata": {
    "collapsed": false
   },
   "outputs": [],
   "source": [
    "meat_oil[cent_prices] = meat_oil[cent_prices].apply(cents_to_dollars)"
   ]
  },
  {
   "cell_type": "code",
   "execution_count": 60,
   "metadata": {
    "collapsed": false
   },
   "outputs": [
    {
     "data": {
      "text/html": [
       "<div>\n",
       "<table border=\"1\" class=\"dataframe\">\n",
       "  <thead>\n",
       "    <tr style=\"text-align: right;\">\n",
       "      <th></th>\n",
       "      <th>Beef_Farm_Price</th>\n",
       "      <th>Beef_Wholesale_Price</th>\n",
       "      <th>Beef_Retail_Price</th>\n",
       "      <th>Pork_Farm_Price</th>\n",
       "      <th>Pork_Wholesale_Price</th>\n",
       "      <th>Pork_Retail_Price</th>\n",
       "      <th>Chicken_Retail_Price</th>\n",
       "      <th>Oil_Price</th>\n",
       "    </tr>\n",
       "  </thead>\n",
       "  <tbody>\n",
       "    <tr>\n",
       "      <th>1986-01-31</th>\n",
       "      <td>1.290</td>\n",
       "      <td>1.526</td>\n",
       "      <td>2.329</td>\n",
       "      <td>0.8555</td>\n",
       "      <td>1.0415</td>\n",
       "      <td>1.7880</td>\n",
       "      <td>1.1959</td>\n",
       "      <td>22.93</td>\n",
       "    </tr>\n",
       "    <tr>\n",
       "      <th>1986-02-28</th>\n",
       "      <td>1.216</td>\n",
       "      <td>1.431</td>\n",
       "      <td>2.285</td>\n",
       "      <td>0.8162</td>\n",
       "      <td>1.0058</td>\n",
       "      <td>1.7806</td>\n",
       "      <td>1.1720</td>\n",
       "      <td>15.46</td>\n",
       "    </tr>\n",
       "    <tr>\n",
       "      <th>1986-03-31</th>\n",
       "      <td>1.204</td>\n",
       "      <td>1.410</td>\n",
       "      <td>2.264</td>\n",
       "      <td>0.7690</td>\n",
       "      <td>0.9711</td>\n",
       "      <td>1.7542</td>\n",
       "      <td>1.1546</td>\n",
       "      <td>12.61</td>\n",
       "    </tr>\n",
       "    <tr>\n",
       "      <th>1986-04-30</th>\n",
       "      <td>1.168</td>\n",
       "      <td>1.378</td>\n",
       "      <td>2.231</td>\n",
       "      <td>0.7601</td>\n",
       "      <td>0.9638</td>\n",
       "      <td>1.7161</td>\n",
       "      <td>1.1644</td>\n",
       "      <td>12.84</td>\n",
       "    </tr>\n",
       "    <tr>\n",
       "      <th>1986-05-31</th>\n",
       "      <td>1.210</td>\n",
       "      <td>1.428</td>\n",
       "      <td>2.229</td>\n",
       "      <td>0.8983</td>\n",
       "      <td>1.0804</td>\n",
       "      <td>1.7171</td>\n",
       "      <td>1.1649</td>\n",
       "      <td>15.38</td>\n",
       "    </tr>\n",
       "  </tbody>\n",
       "</table>\n",
       "</div>"
      ],
      "text/plain": [
       "            Beef_Farm_Price  Beef_Wholesale_Price  Beef_Retail_Price  \\\n",
       "1986-01-31            1.290                 1.526              2.329   \n",
       "1986-02-28            1.216                 1.431              2.285   \n",
       "1986-03-31            1.204                 1.410              2.264   \n",
       "1986-04-30            1.168                 1.378              2.231   \n",
       "1986-05-31            1.210                 1.428              2.229   \n",
       "\n",
       "            Pork_Farm_Price  Pork_Wholesale_Price  Pork_Retail_Price  \\\n",
       "1986-01-31           0.8555                1.0415             1.7880   \n",
       "1986-02-28           0.8162                1.0058             1.7806   \n",
       "1986-03-31           0.7690                0.9711             1.7542   \n",
       "1986-04-30           0.7601                0.9638             1.7161   \n",
       "1986-05-31           0.8983                1.0804             1.7171   \n",
       "\n",
       "            Chicken_Retail_Price  Oil_Price  \n",
       "1986-01-31                1.1959      22.93  \n",
       "1986-02-28                1.1720      15.46  \n",
       "1986-03-31                1.1546      12.61  \n",
       "1986-04-30                1.1644      12.84  \n",
       "1986-05-31                1.1649      15.38  "
      ]
     },
     "execution_count": 60,
     "metadata": {},
     "output_type": "execute_result"
    }
   ],
   "source": [
    "meat_oil.head()"
   ]
  },
  {
   "cell_type": "code",
   "execution_count": 85,
   "metadata": {
    "collapsed": false
   },
   "outputs": [],
   "source": [
    "meat_oil_grains = meat_oil.join(grains, how='inner')"
   ]
  },
  {
   "cell_type": "code",
   "execution_count": 86,
   "metadata": {
    "collapsed": false
   },
   "outputs": [
    {
     "data": {
      "text/html": [
       "<div>\n",
       "<table border=\"1\" class=\"dataframe\">\n",
       "  <thead>\n",
       "    <tr style=\"text-align: right;\">\n",
       "      <th></th>\n",
       "      <th>Beef_Farm_Price</th>\n",
       "      <th>Beef_Wholesale_Price</th>\n",
       "      <th>Beef_Retail_Price</th>\n",
       "      <th>Pork_Farm_Price</th>\n",
       "      <th>Pork_Wholesale_Price</th>\n",
       "      <th>Pork_Retail_Price</th>\n",
       "      <th>Chicken_Retail_Price</th>\n",
       "      <th>Oil_Price</th>\n",
       "      <th>Corn_Price</th>\n",
       "      <th>Barley_Price</th>\n",
       "      <th>Oats_Price</th>\n",
       "      <th>Sorghum_Price</th>\n",
       "    </tr>\n",
       "  </thead>\n",
       "  <tbody>\n",
       "    <tr>\n",
       "      <th>1986-12-31</th>\n",
       "      <td>1.2900</td>\n",
       "      <td>1.5010</td>\n",
       "      <td>2.3080</td>\n",
       "      <td>0.9552</td>\n",
       "      <td>1.1929</td>\n",
       "      <td>2.0240</td>\n",
       "      <td>1.3737</td>\n",
       "      <td>16.11</td>\n",
       "      <td>2.23</td>\n",
       "      <td>1.98</td>\n",
       "      <td>1.23</td>\n",
       "      <td>1.93</td>\n",
       "    </tr>\n",
       "    <tr>\n",
       "      <th>1987-12-31</th>\n",
       "      <td>1.3550</td>\n",
       "      <td>1.5540</td>\n",
       "      <td>2.4110</td>\n",
       "      <td>0.7766</td>\n",
       "      <td>1.1193</td>\n",
       "      <td>1.9636</td>\n",
       "      <td>1.1896</td>\n",
       "      <td>17.28</td>\n",
       "      <td>1.50</td>\n",
       "      <td>1.61</td>\n",
       "      <td>1.21</td>\n",
       "      <td>1.37</td>\n",
       "    </tr>\n",
       "    <tr>\n",
       "      <th>1988-12-31</th>\n",
       "      <td>1.5480</td>\n",
       "      <td>1.7410</td>\n",
       "      <td>2.5560</td>\n",
       "      <td>0.7751</td>\n",
       "      <td>1.0279</td>\n",
       "      <td>1.8769</td>\n",
       "      <td>1.4161</td>\n",
       "      <td>16.38</td>\n",
       "      <td>1.94</td>\n",
       "      <td>1.81</td>\n",
       "      <td>1.56</td>\n",
       "      <td>1.70</td>\n",
       "    </tr>\n",
       "    <tr>\n",
       "      <th>1989-12-31</th>\n",
       "      <td>1.6490</td>\n",
       "      <td>1.8380</td>\n",
       "      <td>2.6940</td>\n",
       "      <td>0.9328</td>\n",
       "      <td>1.1803</td>\n",
       "      <td>2.0229</td>\n",
       "      <td>1.4028</td>\n",
       "      <td>21.10</td>\n",
       "      <td>2.54</td>\n",
       "      <td>2.80</td>\n",
       "      <td>2.61</td>\n",
       "      <td>2.27</td>\n",
       "    </tr>\n",
       "    <tr>\n",
       "      <th>1990-12-31</th>\n",
       "      <td>1.7470</td>\n",
       "      <td>1.9940</td>\n",
       "      <td>2.9530</td>\n",
       "      <td>0.9067</td>\n",
       "      <td>1.2349</td>\n",
       "      <td>2.3615</td>\n",
       "      <td>1.4106</td>\n",
       "      <td>27.28</td>\n",
       "      <td>2.36</td>\n",
       "      <td>2.42</td>\n",
       "      <td>1.49</td>\n",
       "      <td>2.10</td>\n",
       "    </tr>\n",
       "    <tr>\n",
       "      <th>1991-12-31</th>\n",
       "      <td>1.4920</td>\n",
       "      <td>1.7180</td>\n",
       "      <td>2.7940</td>\n",
       "      <td>0.7280</td>\n",
       "      <td>1.0331</td>\n",
       "      <td>2.1255</td>\n",
       "      <td>1.4152</td>\n",
       "      <td>19.50</td>\n",
       "      <td>2.28</td>\n",
       "      <td>2.14</td>\n",
       "      <td>1.14</td>\n",
       "      <td>2.12</td>\n",
       "    </tr>\n",
       "    <tr>\n",
       "      <th>1992-12-31</th>\n",
       "      <td>1.6510</td>\n",
       "      <td>1.8420</td>\n",
       "      <td>2.8730</td>\n",
       "      <td>0.7825</td>\n",
       "      <td>1.0384</td>\n",
       "      <td>2.0769</td>\n",
       "      <td>1.4511</td>\n",
       "      <td>19.41</td>\n",
       "      <td>2.37</td>\n",
       "      <td>2.10</td>\n",
       "      <td>1.21</td>\n",
       "      <td>2.25</td>\n",
       "    </tr>\n",
       "    <tr>\n",
       "      <th>1993-12-31</th>\n",
       "      <td>1.5230</td>\n",
       "      <td>1.7060</td>\n",
       "      <td>2.8820</td>\n",
       "      <td>0.7525</td>\n",
       "      <td>1.0794</td>\n",
       "      <td>2.1276</td>\n",
       "      <td>1.4909</td>\n",
       "      <td>14.52</td>\n",
       "      <td>2.07</td>\n",
       "      <td>2.04</td>\n",
       "      <td>1.32</td>\n",
       "      <td>1.89</td>\n",
       "    </tr>\n",
       "    <tr>\n",
       "      <th>1994-12-31</th>\n",
       "      <td>1.4200</td>\n",
       "      <td>1.6430</td>\n",
       "      <td>2.7940</td>\n",
       "      <td>0.5962</td>\n",
       "      <td>0.9343</td>\n",
       "      <td>1.9933</td>\n",
       "      <td>1.3869</td>\n",
       "      <td>17.16</td>\n",
       "      <td>2.50</td>\n",
       "      <td>1.99</td>\n",
       "      <td>1.36</td>\n",
       "      <td>2.31</td>\n",
       "    </tr>\n",
       "    <tr>\n",
       "      <th>1995-12-31</th>\n",
       "      <td>1.3850</td>\n",
       "      <td>1.6280</td>\n",
       "      <td>2.8410</td>\n",
       "      <td>0.8192</td>\n",
       "      <td>1.0972</td>\n",
       "      <td>2.1393</td>\n",
       "      <td>1.4532</td>\n",
       "      <td>19.03</td>\n",
       "      <td>2.26</td>\n",
       "      <td>2.03</td>\n",
       "      <td>1.22</td>\n",
       "      <td>2.13</td>\n",
       "    </tr>\n",
       "    <tr>\n",
       "      <th>1996-12-31</th>\n",
       "      <td>1.3870</td>\n",
       "      <td>1.6530</td>\n",
       "      <td>2.8730</td>\n",
       "      <td>1.0238</td>\n",
       "      <td>1.3264</td>\n",
       "      <td>2.4461</td>\n",
       "      <td>1.5396</td>\n",
       "      <td>25.23</td>\n",
       "      <td>3.24</td>\n",
       "      <td>2.89</td>\n",
       "      <td>1.67</td>\n",
       "      <td>3.19</td>\n",
       "    </tr>\n",
       "    <tr>\n",
       "      <th>1997-12-31</th>\n",
       "      <td>1.3650</td>\n",
       "      <td>1.5560</td>\n",
       "      <td>2.8090</td>\n",
       "      <td>0.7301</td>\n",
       "      <td>1.0668</td>\n",
       "      <td>2.3995</td>\n",
       "      <td>1.4791</td>\n",
       "      <td>18.33</td>\n",
       "      <td>2.71</td>\n",
       "      <td>2.74</td>\n",
       "      <td>1.96</td>\n",
       "      <td>2.34</td>\n",
       "    </tr>\n",
       "    <tr>\n",
       "      <th>1998-12-31</th>\n",
       "      <td>1.2550</td>\n",
       "      <td>1.5040</td>\n",
       "      <td>2.8360</td>\n",
       "      <td>0.2930</td>\n",
       "      <td>0.8110</td>\n",
       "      <td>2.3810</td>\n",
       "      <td>1.5564</td>\n",
       "      <td>11.35</td>\n",
       "      <td>2.43</td>\n",
       "      <td>2.38</td>\n",
       "      <td>1.60</td>\n",
       "      <td>2.21</td>\n",
       "    </tr>\n",
       "    <tr>\n",
       "      <th>1999-12-31</th>\n",
       "      <td>1.4794</td>\n",
       "      <td>1.8181</td>\n",
       "      <td>3.0175</td>\n",
       "      <td>0.6678</td>\n",
       "      <td>1.0363</td>\n",
       "      <td>2.4609</td>\n",
       "      <td>1.4950</td>\n",
       "      <td>26.10</td>\n",
       "      <td>1.94</td>\n",
       "      <td>1.98</td>\n",
       "      <td>1.10</td>\n",
       "      <td>1.66</td>\n",
       "    </tr>\n",
       "    <tr>\n",
       "      <th>2000-12-31</th>\n",
       "      <td>1.6347</td>\n",
       "      <td>1.9759</td>\n",
       "      <td>3.1007</td>\n",
       "      <td>0.7348</td>\n",
       "      <td>1.1106</td>\n",
       "      <td>2.6254</td>\n",
       "      <td>1.5715</td>\n",
       "      <td>28.44</td>\n",
       "      <td>1.82</td>\n",
       "      <td>2.13</td>\n",
       "      <td>1.12</td>\n",
       "      <td>1.57</td>\n",
       "    </tr>\n",
       "    <tr>\n",
       "      <th>2001-12-31</th>\n",
       "      <td>1.3778</td>\n",
       "      <td>1.7733</td>\n",
       "      <td>3.3033</td>\n",
       "      <td>0.6239</td>\n",
       "      <td>1.0552</td>\n",
       "      <td>2.7145</td>\n",
       "      <td>1.5985</td>\n",
       "      <td>19.39</td>\n",
       "      <td>1.85</td>\n",
       "      <td>2.11</td>\n",
       "      <td>1.10</td>\n",
       "      <td>1.89</td>\n",
       "    </tr>\n",
       "    <tr>\n",
       "      <th>2002-12-31</th>\n",
       "      <td>1.5655</td>\n",
       "      <td>1.9107</td>\n",
       "      <td>3.3776</td>\n",
       "      <td>0.5713</td>\n",
       "      <td>0.9898</td>\n",
       "      <td>2.6059</td>\n",
       "      <td>1.6420</td>\n",
       "      <td>29.46</td>\n",
       "      <td>1.97</td>\n",
       "      <td>2.22</td>\n",
       "      <td>1.59</td>\n",
       "      <td>1.94</td>\n",
       "    </tr>\n",
       "    <tr>\n",
       "      <th>2003-12-31</th>\n",
       "      <td>1.9610</td>\n",
       "      <td>2.3696</td>\n",
       "      <td>4.2430</td>\n",
       "      <td>0.6280</td>\n",
       "      <td>1.0182</td>\n",
       "      <td>2.6801</td>\n",
       "      <td>1.6460</td>\n",
       "      <td>32.13</td>\n",
       "      <td>2.32</td>\n",
       "      <td>2.72</td>\n",
       "      <td>1.81</td>\n",
       "      <td>2.32</td>\n",
       "    </tr>\n",
       "    <tr>\n",
       "      <th>2004-12-31</th>\n",
       "      <td>1.9021</td>\n",
       "      <td>2.2285</td>\n",
       "      <td>4.0805</td>\n",
       "      <td>0.9308</td>\n",
       "      <td>1.2878</td>\n",
       "      <td>2.7868</td>\n",
       "      <td>1.7533</td>\n",
       "      <td>43.15</td>\n",
       "      <td>2.42</td>\n",
       "      <td>2.83</td>\n",
       "      <td>1.48</td>\n",
       "      <td>2.39</td>\n",
       "    </tr>\n",
       "    <tr>\n",
       "      <th>2005-12-31</th>\n",
       "      <td>2.1178</td>\n",
       "      <td>2.4421</td>\n",
       "      <td>4.0603</td>\n",
       "      <td>0.7887</td>\n",
       "      <td>1.1783</td>\n",
       "      <td>2.7861</td>\n",
       "      <td>1.7318</td>\n",
       "      <td>59.41</td>\n",
       "      <td>2.06</td>\n",
       "      <td>2.48</td>\n",
       "      <td>1.48</td>\n",
       "      <td>1.79</td>\n",
       "    </tr>\n",
       "    <tr>\n",
       "      <th>2006-12-31</th>\n",
       "      <td>1.8528</td>\n",
       "      <td>2.2164</td>\n",
       "      <td>3.9209</td>\n",
       "      <td>0.7871</td>\n",
       "      <td>1.1936</td>\n",
       "      <td>2.7682</td>\n",
       "      <td>1.5648</td>\n",
       "      <td>61.96</td>\n",
       "      <td>2.00</td>\n",
       "      <td>2.53</td>\n",
       "      <td>1.63</td>\n",
       "      <td>1.86</td>\n",
       "    </tr>\n",
       "    <tr>\n",
       "      <th>2007-12-31</th>\n",
       "      <td>1.9691</td>\n",
       "      <td>2.2812</td>\n",
       "      <td>4.1130</td>\n",
       "      <td>0.6805</td>\n",
       "      <td>1.1062</td>\n",
       "      <td>2.8594</td>\n",
       "      <td>1.6929</td>\n",
       "      <td>91.69</td>\n",
       "      <td>3.04</td>\n",
       "      <td>2.85</td>\n",
       "      <td>1.87</td>\n",
       "      <td>3.29</td>\n",
       "    </tr>\n",
       "    <tr>\n",
       "      <th>2008-12-31</th>\n",
       "      <td>1.8851</td>\n",
       "      <td>2.2410</td>\n",
       "      <td>4.3912</td>\n",
       "      <td>0.6973</td>\n",
       "      <td>1.1438</td>\n",
       "      <td>3.0052</td>\n",
       "      <td>1.7811</td>\n",
       "      <td>41.12</td>\n",
       "      <td>4.20</td>\n",
       "      <td>4.02</td>\n",
       "      <td>2.63</td>\n",
       "      <td>4.08</td>\n",
       "    </tr>\n",
       "    <tr>\n",
       "      <th>2009-12-31</th>\n",
       "      <td>1.7401</td>\n",
       "      <td>2.1343</td>\n",
       "      <td>4.2809</td>\n",
       "      <td>0.7946</td>\n",
       "      <td>1.2245</td>\n",
       "      <td>2.8200</td>\n",
       "      <td>1.7468</td>\n",
       "      <td>74.47</td>\n",
       "      <td>4.06</td>\n",
       "      <td>5.37</td>\n",
       "      <td>3.15</td>\n",
       "      <td>3.20</td>\n",
       "    </tr>\n",
       "  </tbody>\n",
       "</table>\n",
       "</div>"
      ],
      "text/plain": [
       "            Beef_Farm_Price  Beef_Wholesale_Price  Beef_Retail_Price  \\\n",
       "1986-12-31           1.2900                1.5010             2.3080   \n",
       "1987-12-31           1.3550                1.5540             2.4110   \n",
       "1988-12-31           1.5480                1.7410             2.5560   \n",
       "1989-12-31           1.6490                1.8380             2.6940   \n",
       "1990-12-31           1.7470                1.9940             2.9530   \n",
       "1991-12-31           1.4920                1.7180             2.7940   \n",
       "1992-12-31           1.6510                1.8420             2.8730   \n",
       "1993-12-31           1.5230                1.7060             2.8820   \n",
       "1994-12-31           1.4200                1.6430             2.7940   \n",
       "1995-12-31           1.3850                1.6280             2.8410   \n",
       "1996-12-31           1.3870                1.6530             2.8730   \n",
       "1997-12-31           1.3650                1.5560             2.8090   \n",
       "1998-12-31           1.2550                1.5040             2.8360   \n",
       "1999-12-31           1.4794                1.8181             3.0175   \n",
       "2000-12-31           1.6347                1.9759             3.1007   \n",
       "2001-12-31           1.3778                1.7733             3.3033   \n",
       "2002-12-31           1.5655                1.9107             3.3776   \n",
       "2003-12-31           1.9610                2.3696             4.2430   \n",
       "2004-12-31           1.9021                2.2285             4.0805   \n",
       "2005-12-31           2.1178                2.4421             4.0603   \n",
       "2006-12-31           1.8528                2.2164             3.9209   \n",
       "2007-12-31           1.9691                2.2812             4.1130   \n",
       "2008-12-31           1.8851                2.2410             4.3912   \n",
       "2009-12-31           1.7401                2.1343             4.2809   \n",
       "\n",
       "            Pork_Farm_Price  Pork_Wholesale_Price  Pork_Retail_Price  \\\n",
       "1986-12-31           0.9552                1.1929             2.0240   \n",
       "1987-12-31           0.7766                1.1193             1.9636   \n",
       "1988-12-31           0.7751                1.0279             1.8769   \n",
       "1989-12-31           0.9328                1.1803             2.0229   \n",
       "1990-12-31           0.9067                1.2349             2.3615   \n",
       "1991-12-31           0.7280                1.0331             2.1255   \n",
       "1992-12-31           0.7825                1.0384             2.0769   \n",
       "1993-12-31           0.7525                1.0794             2.1276   \n",
       "1994-12-31           0.5962                0.9343             1.9933   \n",
       "1995-12-31           0.8192                1.0972             2.1393   \n",
       "1996-12-31           1.0238                1.3264             2.4461   \n",
       "1997-12-31           0.7301                1.0668             2.3995   \n",
       "1998-12-31           0.2930                0.8110             2.3810   \n",
       "1999-12-31           0.6678                1.0363             2.4609   \n",
       "2000-12-31           0.7348                1.1106             2.6254   \n",
       "2001-12-31           0.6239                1.0552             2.7145   \n",
       "2002-12-31           0.5713                0.9898             2.6059   \n",
       "2003-12-31           0.6280                1.0182             2.6801   \n",
       "2004-12-31           0.9308                1.2878             2.7868   \n",
       "2005-12-31           0.7887                1.1783             2.7861   \n",
       "2006-12-31           0.7871                1.1936             2.7682   \n",
       "2007-12-31           0.6805                1.1062             2.8594   \n",
       "2008-12-31           0.6973                1.1438             3.0052   \n",
       "2009-12-31           0.7946                1.2245             2.8200   \n",
       "\n",
       "            Chicken_Retail_Price  Oil_Price  Corn_Price  Barley_Price  \\\n",
       "1986-12-31                1.3737      16.11        2.23          1.98   \n",
       "1987-12-31                1.1896      17.28        1.50          1.61   \n",
       "1988-12-31                1.4161      16.38        1.94          1.81   \n",
       "1989-12-31                1.4028      21.10        2.54          2.80   \n",
       "1990-12-31                1.4106      27.28        2.36          2.42   \n",
       "1991-12-31                1.4152      19.50        2.28          2.14   \n",
       "1992-12-31                1.4511      19.41        2.37          2.10   \n",
       "1993-12-31                1.4909      14.52        2.07          2.04   \n",
       "1994-12-31                1.3869      17.16        2.50          1.99   \n",
       "1995-12-31                1.4532      19.03        2.26          2.03   \n",
       "1996-12-31                1.5396      25.23        3.24          2.89   \n",
       "1997-12-31                1.4791      18.33        2.71          2.74   \n",
       "1998-12-31                1.5564      11.35        2.43          2.38   \n",
       "1999-12-31                1.4950      26.10        1.94          1.98   \n",
       "2000-12-31                1.5715      28.44        1.82          2.13   \n",
       "2001-12-31                1.5985      19.39        1.85          2.11   \n",
       "2002-12-31                1.6420      29.46        1.97          2.22   \n",
       "2003-12-31                1.6460      32.13        2.32          2.72   \n",
       "2004-12-31                1.7533      43.15        2.42          2.83   \n",
       "2005-12-31                1.7318      59.41        2.06          2.48   \n",
       "2006-12-31                1.5648      61.96        2.00          2.53   \n",
       "2007-12-31                1.6929      91.69        3.04          2.85   \n",
       "2008-12-31                1.7811      41.12        4.20          4.02   \n",
       "2009-12-31                1.7468      74.47        4.06          5.37   \n",
       "\n",
       "            Oats_Price  Sorghum_Price  \n",
       "1986-12-31        1.23           1.93  \n",
       "1987-12-31        1.21           1.37  \n",
       "1988-12-31        1.56           1.70  \n",
       "1989-12-31        2.61           2.27  \n",
       "1990-12-31        1.49           2.10  \n",
       "1991-12-31        1.14           2.12  \n",
       "1992-12-31        1.21           2.25  \n",
       "1993-12-31        1.32           1.89  \n",
       "1994-12-31        1.36           2.31  \n",
       "1995-12-31        1.22           2.13  \n",
       "1996-12-31        1.67           3.19  \n",
       "1997-12-31        1.96           2.34  \n",
       "1998-12-31        1.60           2.21  \n",
       "1999-12-31        1.10           1.66  \n",
       "2000-12-31        1.12           1.57  \n",
       "2001-12-31        1.10           1.89  \n",
       "2002-12-31        1.59           1.94  \n",
       "2003-12-31        1.81           2.32  \n",
       "2004-12-31        1.48           2.39  \n",
       "2005-12-31        1.48           1.79  \n",
       "2006-12-31        1.63           1.86  \n",
       "2007-12-31        1.87           3.29  \n",
       "2008-12-31        2.63           4.08  \n",
       "2009-12-31        3.15           3.20  "
      ]
     },
     "execution_count": 86,
     "metadata": {},
     "output_type": "execute_result"
    }
   ],
   "source": [
    "meat_oil_grains.head(24)"
   ]
  },
  {
   "cell_type": "code",
   "execution_count": 87,
   "metadata": {
    "collapsed": false
   },
   "outputs": [
    {
     "data": {
      "text/plain": [
       "<matplotlib.axes._subplots.AxesSubplot at 0x119a238d0>"
      ]
     },
     "execution_count": 87,
     "metadata": {},
     "output_type": "execute_result"
    },
    {
     "data": {
      "image/png": "[encoded data removed]",
      "text/plain": [
       "<matplotlib.figure.Figure at 0x11cc0ca50>"
      ]
     },
     "metadata": {},
     "output_type": "display_data"
    }
   ],
   "source": [
    "meat_oil_grains.plot()"
   ]
  },
  {
   "cell_type": "code",
   "execution_count": 88,
   "metadata": {
    "collapsed": false
   },
   "outputs": [
    {
     "data": {
      "text/plain": [
       "<matplotlib.axes._subplots.AxesSubplot at 0x11d59abd0>"
      ]
     },
     "execution_count": 88,
     "metadata": {},
     "output_type": "execute_result"
    },
    {
     "data": {
      "image/png": "[encoded data removed]",
      "text/plain": [
       "<matplotlib.figure.Figure at 0x11d490510>"
      ]
     },
     "metadata": {},
     "output_type": "display_data"
    }
   ],
   "source": [
    "meat_oil_grains[beef_prices].plot.area()"
   ]
  },
  {
   "cell_type": "code",
   "execution_count": 89,
   "metadata": {
    "collapsed": false
   },
   "outputs": [
    {
     "data": {
      "text/html": [
       "<div>\n",
       "<table border=\"1\" class=\"dataframe\">\n",
       "  <thead>\n",
       "    <tr style=\"text-align: right;\">\n",
       "      <th></th>\n",
       "      <th>Beef_Farm_Price</th>\n",
       "      <th>Beef_Wholesale_Price</th>\n",
       "      <th>Beef_Retail_Price</th>\n",
       "    </tr>\n",
       "  </thead>\n",
       "  <tbody>\n",
       "    <tr>\n",
       "      <th>Beef_Farm_Price</th>\n",
       "      <td>1.000000</td>\n",
       "      <td>0.992868</td>\n",
       "      <td>0.939649</td>\n",
       "    </tr>\n",
       "    <tr>\n",
       "      <th>Beef_Wholesale_Price</th>\n",
       "      <td>0.992868</td>\n",
       "      <td>1.000000</td>\n",
       "      <td>0.965248</td>\n",
       "    </tr>\n",
       "    <tr>\n",
       "      <th>Beef_Retail_Price</th>\n",
       "      <td>0.939649</td>\n",
       "      <td>0.965248</td>\n",
       "      <td>1.000000</td>\n",
       "    </tr>\n",
       "  </tbody>\n",
       "</table>\n",
       "</div>"
      ],
      "text/plain": [
       "                      Beef_Farm_Price  Beef_Wholesale_Price  Beef_Retail_Price\n",
       "Beef_Farm_Price              1.000000              0.992868           0.939649\n",
       "Beef_Wholesale_Price         0.992868              1.000000           0.965248\n",
       "Beef_Retail_Price            0.939649              0.965248           1.000000"
      ]
     },
     "execution_count": 89,
     "metadata": {},
     "output_type": "execute_result"
    }
   ],
   "source": [
    "meat_oil_grains[beef_prices].corr()"
   ]
  },
  {
   "cell_type": "code",
   "execution_count": 90,
   "metadata": {
    "collapsed": false
   },
   "outputs": [
    {
     "data": {
      "text/plain": [
       "<matplotlib.axes._subplots.AxesSubplot at 0x11d8255d0>"
      ]
     },
     "execution_count": 90,
     "metadata": {},
     "output_type": "execute_result"
    },
    {
     "data": {
      "image/png": "[encoded data removed]",
      "text/plain": [
       "<matplotlib.figure.Figure at 0x11d490690>"
      ]
     },
     "metadata": {},
     "output_type": "display_data"
    }
   ],
   "source": [
    "meat_oil_grains[pork_prices].plot.area()"
   ]
  },
  {
   "cell_type": "code",
   "execution_count": 91,
   "metadata": {
    "collapsed": false
   },
   "outputs": [
    {
     "data": {
      "text/html": [
       "<div>\n",
       "<table border=\"1\" class=\"dataframe\">\n",
       "  <thead>\n",
       "    <tr style=\"text-align: right;\">\n",
       "      <th></th>\n",
       "      <th>Pork_Farm_Price</th>\n",
       "      <th>Pork_Wholesale_Price</th>\n",
       "      <th>Pork_Retail_Price</th>\n",
       "    </tr>\n",
       "  </thead>\n",
       "  <tbody>\n",
       "    <tr>\n",
       "      <th>Pork_Farm_Price</th>\n",
       "      <td>1.000000</td>\n",
       "      <td>0.829671</td>\n",
       "      <td>0.330875</td>\n",
       "    </tr>\n",
       "    <tr>\n",
       "      <th>Pork_Wholesale_Price</th>\n",
       "      <td>0.829671</td>\n",
       "      <td>1.000000</td>\n",
       "      <td>0.775545</td>\n",
       "    </tr>\n",
       "    <tr>\n",
       "      <th>Pork_Retail_Price</th>\n",
       "      <td>0.330875</td>\n",
       "      <td>0.775545</td>\n",
       "      <td>1.000000</td>\n",
       "    </tr>\n",
       "  </tbody>\n",
       "</table>\n",
       "</div>"
      ],
      "text/plain": [
       "                      Pork_Farm_Price  Pork_Wholesale_Price  Pork_Retail_Price\n",
       "Pork_Farm_Price              1.000000              0.829671           0.330875\n",
       "Pork_Wholesale_Price         0.829671              1.000000           0.775545\n",
       "Pork_Retail_Price            0.330875              0.775545           1.000000"
      ]
     },
     "execution_count": 91,
     "metadata": {},
     "output_type": "execute_result"
    }
   ],
   "source": [
    "meat_oil_grains[pork_prices].corr()"
   ]
  },
  {
   "cell_type": "code",
   "execution_count": 92,
   "metadata": {
    "collapsed": false
   },
   "outputs": [
    {
     "data": {
      "text/plain": [
       "<matplotlib.axes._subplots.AxesSubplot at 0x11db60f50>"
      ]
     },
     "execution_count": 92,
     "metadata": {},
     "output_type": "execute_result"
    },
    {
     "data": {
      "image/png": "[encoded data removed]",
      "text/plain": [
       "<matplotlib.figure.Figure at 0x11dc15690>"
      ]
     },
     "metadata": {},
     "output_type": "display_data"
    }
   ],
   "source": [
    "meat_oil_grains['Chicken_Retail_Price'].plot()"
   ]
  },
  {
   "cell_type": "code",
   "execution_count": 93,
   "metadata": {
    "collapsed": false
   },
   "outputs": [
    {
     "data": {
      "text/plain": [
       "0.90047115707802006"
      ]
     },
     "execution_count": 93,
     "metadata": {},
     "output_type": "execute_result"
    }
   ],
   "source": [
    "meat_oil_grains['Chicken_Retail_Price'].autocorr()"
   ]
  },
  {
   "cell_type": "code",
   "execution_count": 94,
   "metadata": {
    "collapsed": false
   },
   "outputs": [
    {
     "data": {
      "text/plain": [
       "<matplotlib.axes._subplots.AxesSubplot at 0x11df50990>"
      ]
     },
     "execution_count": 94,
     "metadata": {},
     "output_type": "execute_result"
    },
    {
     "data": {
      "image/png": "[encoded data removed]",
      "text/plain": [
       "<matplotlib.figure.Figure at 0x11dc1f310>"
      ]
     },
     "metadata": {},
     "output_type": "display_data"
    }
   ],
   "source": [
    "meat_oil_grains['Oil_Price'].plot()"
   ]
  },
  {
   "cell_type": "code",
   "execution_count": 95,
   "metadata": {
    "collapsed": false
   },
   "outputs": [
    {
     "data": {
      "text/plain": [
       "0.82597804766121186"
      ]
     },
     "execution_count": 95,
     "metadata": {},
     "output_type": "execute_result"
    }
   ],
   "source": [
    "meat_oil_grains['Oil_Price'].autocorr()"
   ]
  },
  {
   "cell_type": "code",
   "execution_count": 96,
   "metadata": {
    "collapsed": false
   },
   "outputs": [
    {
     "data": {
      "text/plain": [
       "<matplotlib.axes._subplots.AxesSubplot at 0x11e9327d0>"
      ]
     },
     "execution_count": 96,
     "metadata": {},
     "output_type": "execute_result"
    },
    {
     "data": {
      "image/png": "[encoded data removed]",
      "text/plain": [
       "<matplotlib.figure.Figure at 0x11ddf1550>"
      ]
     },
     "metadata": {},
     "output_type": "display_data"
    }
   ],
   "source": [
    "meat_oil_grains[retail_meat].plot.area()"
   ]
  },
  {
   "cell_type": "code",
   "execution_count": 97,
   "metadata": {
    "collapsed": false
   },
   "outputs": [
    {
     "data": {
      "text/html": [
       "<div>\n",
       "<table border=\"1\" class=\"dataframe\">\n",
       "  <thead>\n",
       "    <tr style=\"text-align: right;\">\n",
       "      <th></th>\n",
       "      <th>Beef_Retail_Price</th>\n",
       "      <th>Pork_Retail_Price</th>\n",
       "      <th>Chicken_Retail_Price</th>\n",
       "    </tr>\n",
       "  </thead>\n",
       "  <tbody>\n",
       "    <tr>\n",
       "      <th>Beef_Retail_Price</th>\n",
       "      <td>1.000000</td>\n",
       "      <td>0.967978</td>\n",
       "      <td>0.941476</td>\n",
       "    </tr>\n",
       "    <tr>\n",
       "      <th>Pork_Retail_Price</th>\n",
       "      <td>0.967978</td>\n",
       "      <td>1.000000</td>\n",
       "      <td>0.946063</td>\n",
       "    </tr>\n",
       "    <tr>\n",
       "      <th>Chicken_Retail_Price</th>\n",
       "      <td>0.941476</td>\n",
       "      <td>0.946063</td>\n",
       "      <td>1.000000</td>\n",
       "    </tr>\n",
       "  </tbody>\n",
       "</table>\n",
       "</div>"
      ],
      "text/plain": [
       "                      Beef_Retail_Price  Pork_Retail_Price  \\\n",
       "Beef_Retail_Price              1.000000           0.967978   \n",
       "Pork_Retail_Price              0.967978           1.000000   \n",
       "Chicken_Retail_Price           0.941476           0.946063   \n",
       "\n",
       "                      Chicken_Retail_Price  \n",
       "Beef_Retail_Price                 0.941476  \n",
       "Pork_Retail_Price                 0.946063  \n",
       "Chicken_Retail_Price              1.000000  "
      ]
     },
     "execution_count": 97,
     "metadata": {},
     "output_type": "execute_result"
    }
   ],
   "source": [
    "meat_oil_grains[retail_meat].corr()"
   ]
  },
  {
   "cell_type": "code",
   "execution_count": 98,
   "metadata": {
    "collapsed": false
   },
   "outputs": [
    {
     "data": {
      "text/plain": [
       "<matplotlib.axes._subplots.AxesSubplot at 0x11ecab7d0>"
      ]
     },
     "execution_count": 98,
     "metadata": {},
     "output_type": "execute_result"
    },
    {
     "data": {
      "image/png": "[encoded data removed]",
      "text/plain": [
       "<matplotlib.figure.Figure at 0x11df62650>"
      ]
     },
     "metadata": {},
     "output_type": "display_data"
    }
   ],
   "source": [
    "meat_oil_grains[['Oil_Price', 'Beef_Retail_Price', 'Pork_Retail_Price', 'Chicken_Retail_Price']].plot()"
   ]
  },
  {
   "cell_type": "code",
   "execution_count": 99,
   "metadata": {
    "collapsed": false
   },
   "outputs": [
    {
     "data": {
      "text/html": [
       "<div>\n",
       "<table border=\"1\" class=\"dataframe\">\n",
       "  <thead>\n",
       "    <tr style=\"text-align: right;\">\n",
       "      <th></th>\n",
       "      <th>Oil_Price</th>\n",
       "      <th>Beef_Retail_Price</th>\n",
       "      <th>Pork_Retail_Price</th>\n",
       "      <th>Chicken_Retail_Price</th>\n",
       "    </tr>\n",
       "  </thead>\n",
       "  <tbody>\n",
       "    <tr>\n",
       "      <th>Oil_Price</th>\n",
       "      <td>1.000000</td>\n",
       "      <td>0.744931</td>\n",
       "      <td>0.749896</td>\n",
       "      <td>0.749405</td>\n",
       "    </tr>\n",
       "    <tr>\n",
       "      <th>Beef_Retail_Price</th>\n",
       "      <td>0.744931</td>\n",
       "      <td>1.000000</td>\n",
       "      <td>0.967978</td>\n",
       "      <td>0.941476</td>\n",
       "    </tr>\n",
       "    <tr>\n",
       "      <th>Pork_Retail_Price</th>\n",
       "      <td>0.749896</td>\n",
       "      <td>0.967978</td>\n",
       "      <td>1.000000</td>\n",
       "      <td>0.946063</td>\n",
       "    </tr>\n",
       "    <tr>\n",
       "      <th>Chicken_Retail_Price</th>\n",
       "      <td>0.749405</td>\n",
       "      <td>0.941476</td>\n",
       "      <td>0.946063</td>\n",
       "      <td>1.000000</td>\n",
       "    </tr>\n",
       "  </tbody>\n",
       "</table>\n",
       "</div>"
      ],
      "text/plain": [
       "                      Oil_Price  Beef_Retail_Price  Pork_Retail_Price  \\\n",
       "Oil_Price              1.000000           0.744931           0.749896   \n",
       "Beef_Retail_Price      0.744931           1.000000           0.967978   \n",
       "Pork_Retail_Price      0.749896           0.967978           1.000000   \n",
       "Chicken_Retail_Price   0.749405           0.941476           0.946063   \n",
       "\n",
       "                      Chicken_Retail_Price  \n",
       "Oil_Price                         0.749405  \n",
       "Beef_Retail_Price                 0.941476  \n",
       "Pork_Retail_Price                 0.946063  \n",
       "Chicken_Retail_Price              1.000000  "
      ]
     },
     "execution_count": 99,
     "metadata": {},
     "output_type": "execute_result"
    }
   ],
   "source": [
    "meat_oil_grains[['Oil_Price', 'Beef_Retail_Price', 'Pork_Retail_Price', 'Chicken_Retail_Price']].corr()"
   ]
  },
  {
   "cell_type": "code",
   "execution_count": null,
   "metadata": {
    "collapsed": true
   },
   "outputs": [],
   "source": []
  },
  {
   "cell_type": "code",
   "execution_count": null,
   "metadata": {
    "collapsed": true
   },
   "outputs": [],
   "source": []
  }
 ],
 "metadata": {
  "kernelspec": {
   "display_name": "Python 2",
   "language": "python",
   "name": "python2"
  },
  "language_info": {
   "codemirror_mode": {
    "name": "ipython",
    "version": 2
   },
   "file_extension": ".py",
   "mimetype": "text/x-python",
   "name": "python",
   "nbconvert_exporter": "python",
   "pygments_lexer": "ipython2",
   "version": "2.7.11"
  }
 },
 "nbformat": 4,
 "nbformat_minor": 0
}
