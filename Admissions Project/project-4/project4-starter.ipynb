{
 "cells": [
  {
   "cell_type": "markdown",
   "metadata": {},
   "source": [
    "# Project 4\n",
    "\n",
    "In this project, you will summarize and present your analysis from Projects 1-3."
   ]
  },
  {
   "cell_type": "markdown",
   "metadata": {},
   "source": [
    "### Intro: Write a problem Statement/ Specific Aim for this project"
   ]
  },
  {
   "cell_type": "markdown",
   "metadata": {},
   "source": [
    "Answer: This project attempts to explain the relationship between gpa, gre score, and prestige of undergraduate school attended with admittance to graduate school in order to predict the probability that one will or will not be admitted based upon those factors."
   ]
  },
  {
   "cell_type": "markdown",
   "metadata": {},
   "source": [
    "### Dataset:  Write up a description of your data and any cleaning that was completed"
   ]
  },
  {
   "cell_type": "markdown",
   "metadata": {},
   "source": [
    "Answer: The data consists of 400 observations of students who applied for graduate school, and includes their gpa, a continuous variable from 0.0-4.0, gre score, which is also continuous from 200-800, the prestige of their undergrad program, ranked from 1-4, 1 being the highest, a categorical value, and whether or not they were admitted, a binary categorical value. The dataset was cleaned by removing any lines with null values, then modified for logistic regression by creating dummy variables for the 4 categorical variables of 'prestige'. The base class was dropped and an intercept of 1 was added before fitting the model to the data."
   ]
  },
  {
   "cell_type": "markdown",
   "metadata": {
    "collapsed": true
   },
   "source": [
    "### Demo: Provide a table that explains the data by admission status"
   ]
  },
  {
   "cell_type": "markdown",
   "metadata": {},
   "source": [
    "### Mean (STD) or counts by admission status for each variable \n",
    "\n",
    "| Not Admitted | Admitted\n",
    "---| ---|---\n",
    "GPA | 3.34(0.37)  | 3.48(0.37)\n",
    "GRE |573(116) | 618(109)\n",
    "Prestige 1 | 28 (45%) | 33 (55%)\n",
    "Prestige 2 | 95 (64%) | 53 (36%)\n",
    "Prestige 3 | 93 (77%) | 28 (23%)\n",
    "Prestige 4 | 12 (18%) | 55 (82%)"
   ]
  },
  {
   "cell_type": "markdown",
   "metadata": {},
   "source": [
    "### Methods: Write up the methods used in your analysis"
   ]
  },
  {
   "cell_type": "markdown",
   "metadata": {},
   "source": [
    "Answer: We created dummy variables for prestige of school, and performed logistic regression on them relative to amittance. We also controlled for GPA and GRE scores, and used that model to predict the admission of students across a range of all logical combined values."
   ]
  },
  {
   "cell_type": "markdown",
   "metadata": {},
   "source": [
    "### Results: Write up your results"
   ]
  },
  {
   "cell_type": "markdown",
   "metadata": {},
   "source": [
    "Answer:Compared to students who attended a teir 1 school, teir 2 students had 50% less chance of being admitted. Students who attended a teir 3 school had a 26% chance compared to teir 1, and teir 4 students had a 21% chance of being admitted, when controlling for GPA and GRE scores."
   ]
  },
  {
   "cell_type": "markdown",
   "metadata": {},
   "source": [
    "### Visuals: Provide a table or visualization of these results"
   ]
  },
  {
   "cell_type": "markdown",
   "metadata": {},
   "source": [
    "<img src='../images/figure1.jpg' height= 75% width= 75%>"
   ]
  },
  {
   "cell_type": "markdown",
   "metadata": {},
   "source": [
    "<img src='../images/figure2.jpg' height= 75% width= 75%>"
   ]
  },
  {
   "cell_type": "markdown",
   "metadata": {},
   "source": [
    "### Discussion: Write up your discussion and future steps"
   ]
  },
  {
   "cell_type": "markdown",
   "metadata": {},
   "source": [
    "Answer: "
   ]
  }
 ],
 "metadata": {
  "kernelspec": {
   "display_name": "Python 2",
   "language": "python",
   "name": "python2"
  },
  "language_info": {
   "codemirror_mode": {
    "name": "ipython",
    "version": 2
   },
   "file_extension": ".py",
   "mimetype": "text/x-python",
   "name": "python",
   "nbconvert_exporter": "python",
   "pygments_lexer": "ipython2",
   "version": "2.7.11"
  }
 },
 "nbformat": 4,
 "nbformat_minor": 0
}
